{
 "cells": [
  {
   "cell_type": "markdown",
   "metadata": {},
   "source": [
    "## Plots for STRise conference"
   ]
  },
  {
   "cell_type": "code",
   "execution_count": 1,
   "metadata": {},
   "outputs": [
    {
     "name": "stdout",
     "output_type": "stream",
     "text": [
      "Project directory: /home/bobby/projects/pci-pmi-2030-targets\n"
     ]
    }
   ],
   "source": [
    "import logging\n",
    "logger = logging.getLogger(__name__)\n",
    "import pypsa\n",
    "import pandas as pd\n",
    "import os\n",
    "import yaml\n",
    "project_dir = os.path.dirname(os.path.dirname(os.getcwd()))\n",
    "print(f\"Project directory: {project_dir}\")"
   ]
  },
  {
   "cell_type": "code",
   "execution_count": 2,
   "metadata": {},
   "outputs": [],
   "source": [
    "## append ../scripts to path\n",
    "import sys\n",
    "sys.path.append(os.path.join(project_dir, \"workflow/scripts\"))"
   ]
  },
  {
   "cell_type": "code",
   "execution_count": 3,
   "metadata": {},
   "outputs": [],
   "source": [
    "configfile = configfile = str(project_dir) + \"/config/config.yaml\"\n",
    "config = yaml.safe_load(open(configfile))"
   ]
  },
  {
   "cell_type": "code",
   "execution_count": 4,
   "metadata": {},
   "outputs": [
    {
     "name": "stdout",
     "output_type": "stream",
     "text": [
      "Prefix: 2030-targets\n",
      "Scenarios: ['targets+pci-pmi', 'targets+pci-pmi-national-h2-expansion', 'targets+greenfield-infra', 'targets+no-infra', 'only-emission-targets+no-infra']\n"
     ]
    }
   ],
   "source": [
    "configfile_project = str(project_dir) + \"/config/config.pci-pmi.yaml\"\n",
    "config_project = yaml.safe_load(open(configfile_project))\n",
    "\n",
    "prefix = config_project[\"run\"][\"prefix\"]\n",
    "scenarios = config_project[\"run\"][\"name\"]\n",
    "print(f\"Prefix: {prefix}\")\n",
    "print(f\"Scenarios: {scenarios}\")"
   ]
  },
  {
   "cell_type": "code",
   "execution_count": 5,
   "metadata": {},
   "outputs": [],
   "source": [
    "# consolidate and rename\n",
    "def rename_techs(label):\n",
    "    prefix_to_remove = [\n",
    "        \"residential \",\n",
    "        \"services \",\n",
    "        \"urban \",\n",
    "        \"rural \",\n",
    "        \"central \",\n",
    "        \"decentral \",\n",
    "    ]\n",
    "\n",
    "    rename_if_contains = [\n",
    "        \"CHP\",\n",
    "        \"gas boiler\",\n",
    "        \"biogas\",\n",
    "        \"solar thermal\",\n",
    "        \"air heat pump\",\n",
    "        \"ground heat pump\",\n",
    "        \"resistive heater\",\n",
    "        \"Fischer-Tropsch\",\n",
    "    ]\n",
    "\n",
    "    rename_if_contains_dict = {\n",
    "        \"water tanks\": \"hot water storage\",\n",
    "        \"retrofitting\": \"building retrofitting\",\n",
    "        # \"H2 Electrolysis\": \"hydrogen storage\",\n",
    "        # \"H2 Fuel Cell\": \"hydrogen storage\",\n",
    "        # \"H2 pipeline\": \"hydrogen storage\",\n",
    "        \"battery\": \"battery storage\",\n",
    "        \"H2 for industry\": \"H2 for industry\",\n",
    "        \"land transport fuel cell\": \"land transport fuel cell\",\n",
    "        \"land transport oil\": \"land transport oil\",\n",
    "        \"oil shipping\": \"shipping oil\",\n",
    "        # \"CC\": \"CC\"\n",
    "    }\n",
    "\n",
    "    rename = {\n",
    "        \"solar\": \"solar PV\",\n",
    "        \"Sabatier\": \"methanation\",\n",
    "        \"offwind\": \"offshore wind\",\n",
    "        \"offwind-ac\": \"offshore wind (AC)\",\n",
    "        \"offwind-dc\": \"offshore wind (DC)\",\n",
    "        \"offwind-float\": \"offshore wind (Float)\",\n",
    "        \"onwind\": \"onshore wind\",\n",
    "        \"ror\": \"hydroelectricity\",\n",
    "        \"hydro\": \"hydroelectricity\",\n",
    "        \"PHS\": \"hydroelectricity\",\n",
    "        \"NH3\": \"ammonia\",\n",
    "        \"co2 Store\": \"DAC\",\n",
    "        \"co2 stored\": \"CO2 sequestration\",\n",
    "        \"AC\": \"transmission lines\",\n",
    "        \"DC\": \"transmission lines\",\n",
    "        \"B2B\": \"transmission lines\",\n",
    "    }\n",
    "\n",
    "    for ptr in prefix_to_remove:\n",
    "        if label[: len(ptr)] == ptr:\n",
    "            label = label[len(ptr) :]\n",
    "\n",
    "    for rif in rename_if_contains:\n",
    "        if rif in label:\n",
    "            label = rif\n",
    "\n",
    "    for old, new in rename_if_contains_dict.items():\n",
    "        if old in label:\n",
    "            label = new\n",
    "\n",
    "    for old, new in rename.items():\n",
    "        if old == label:\n",
    "            label = new\n",
    "    return label\n",
    "\n",
    "\n",
    "preferred_order = pd.Index(\n",
    "    [\n",
    "        \"transmission lines\",\n",
    "        \"hydroelectricity\",\n",
    "        \"hydro reservoir\",\n",
    "        \"run of river\",\n",
    "        \"pumped hydro storage\",\n",
    "        \"solid biomass\",\n",
    "        \"biogas\",\n",
    "        \"onshore wind\",\n",
    "        \"offshore wind\",\n",
    "        \"offshore wind (AC)\",\n",
    "        \"offshore wind (DC)\",\n",
    "        \"solar PV\",\n",
    "        \"solar thermal\",\n",
    "        \"solar rooftop\",\n",
    "        \"solar\",\n",
    "        \"building retrofitting\",\n",
    "        \"ground heat pump\",\n",
    "        \"air heat pump\",\n",
    "        \"heat pump\",\n",
    "        \"resistive heater\",\n",
    "        \"power-to-heat\",\n",
    "        \"gas-to-power/heat\",\n",
    "        \"CHP\",\n",
    "        \"OCGT\",\n",
    "        \"gas boiler\",\n",
    "        \"gas\",\n",
    "        \"natural gas\",\n",
    "        \"methanation\",\n",
    "        \"ammonia\",\n",
    "        \"hydrogen storage\",\n",
    "        \"power-to-gas\",\n",
    "        \"power-to-liquid\",\n",
    "        \"battery storage\",\n",
    "        \"hot water storage\",\n",
    "        \"CO2 sequestration\",\n",
    "    ]\n",
    ")"
   ]
  },
  {
   "cell_type": "code",
   "execution_count": 6,
   "metadata": {},
   "outputs": [
    {
     "name": "stdout",
     "output_type": "stream",
     "text": [
      "\n",
      "Loading network for scenario targets+pci-pmi\n"
     ]
    },
    {
     "name": "stderr",
     "output_type": "stream",
     "text": [
      "INFO:pypsa.io:Imported network base_s_90_lv1.05___2030.nc has buses, carriers, generators, global_constraints, lines, links, loads, storage_units, stores\n"
     ]
    },
    {
     "name": "stdout",
     "output_type": "stream",
     "text": [
      "\n",
      "Loading network for scenario targets+pci-pmi-national-h2-expansion\n"
     ]
    },
    {
     "name": "stderr",
     "output_type": "stream",
     "text": [
      "INFO:pypsa.io:Imported network base_s_90_lv1.05___2030.nc has buses, carriers, generators, global_constraints, lines, links, loads, storage_units, stores\n"
     ]
    },
    {
     "name": "stdout",
     "output_type": "stream",
     "text": [
      "\n",
      "Loading network for scenario targets+greenfield-infra\n"
     ]
    },
    {
     "name": "stderr",
     "output_type": "stream",
     "text": [
      "INFO:pypsa.io:Imported network base_s_90_lv1.05___2030.nc has buses, carriers, generators, global_constraints, lines, links, loads, storage_units, stores\n"
     ]
    },
    {
     "name": "stdout",
     "output_type": "stream",
     "text": [
      "\n",
      "Loading network for scenario targets+no-infra\n"
     ]
    },
    {
     "name": "stderr",
     "output_type": "stream",
     "text": [
      "INFO:pypsa.io:Imported network base_s_90_lv1.05___2030.nc has buses, carriers, generators, global_constraints, lines, links, loads, storage_units, stores\n"
     ]
    },
    {
     "name": "stdout",
     "output_type": "stream",
     "text": [
      "\n",
      "Loading network for scenario only-emission-targets+no-infra\n"
     ]
    },
    {
     "name": "stderr",
     "output_type": "stream",
     "text": [
      "INFO:pypsa.io:Imported network base_s_90_lv1.05___2030.nc has buses, carriers, generators, global_constraints, lines, links, loads, storage_units, stores\n"
     ]
    }
   ],
   "source": [
    "# iterate through all scenarios and store all pypsa networks in a dictionary with scenarios as keys\n",
    "networks = {}\n",
    "for scenario in scenarios:\n",
    "    print(\"\")\n",
    "    print(f\"Loading network for scenario {scenario}\")\n",
    "    n_path = project_dir + \"/results/\" + prefix+ \"/\"+scenario+\"/postnetworks/base_s_90_lv1.05___2030.nc\"\n",
    "    networks[scenario] = pypsa.Network(n_path)"
   ]
  },
  {
   "cell_type": "code",
   "execution_count": 18,
   "metadata": {},
   "outputs": [
    {
     "name": "stdout",
     "output_type": "stream",
     "text": [
      "\n",
      "Objective value in bn. €: targets+pci-pmi\n",
      "586.036\n",
      "\n",
      "Objective value in bn. €: targets+pci-pmi-national-h2-expansion\n",
      "585.817\n",
      "\n",
      "Objective value in bn. €: targets+greenfield-infra\n",
      "586.525\n",
      "\n",
      "Objective value in bn. €: targets+no-infra\n",
      "586.967\n",
      "\n",
      "Objective value in bn. €: only-emission-targets+no-infra\n",
      "580.175\n"
     ]
    }
   ],
   "source": [
    "# print all objectives\n",
    "for scenario in scenarios:\n",
    "    print(\"\")\n",
    "    print(f\"Objective value in bn. €: {scenario}\")\n",
    "    print(round(networks[scenario].objective/1e9,3))"
   ]
  },
  {
   "cell_type": "code",
   "execution_count": 19,
   "metadata": {},
   "outputs": [],
   "source": [
    "import matplotlib.pyplot as plt"
   ]
  },
  {
   "cell_type": "code",
   "execution_count": 7,
   "metadata": {},
   "outputs": [],
   "source": [
    "cost_df = networks[scenarios[0]].statistics.capex()"
   ]
  },
  {
   "cell_type": "code",
   "execution_count": 8,
   "metadata": {},
   "outputs": [],
   "source": [
    "import matplotlib.pyplot as plt\n",
    "import pypsa\n",
    "import seaborn as sns\n",
    "sns.set_theme(\"paper\", style=\"whitegrid\")\n"
   ]
  },
  {
   "cell_type": "code",
   "execution_count": null,
   "metadata": {},
   "outputs": [],
   "source": [
    "n = pypsa.Network(snakemake.input.network)\n",
    "\n",
    "n.loads.carrier = \"load\"\n",
    "n.carriers.loc[\"load\", [\"nice_name\", \"color\"]] = \"Load\", \"darkred\"\n",
    "colors = n.carriers.set_index(\"nice_name\").color.where(\n",
    "    lambda s: s != \"\", \"lightgrey\"\n",
    ")\n",
    "\n",
    "def rename_index(ds):\n",
    "    specific = ds.index.map(lambda x: f\"{x[1]}\\n({x[0]})\")\n",
    "    generic = ds.index.get_level_values(\"carrier\")\n",
    "    duplicated = generic.duplicated(keep=False)\n",
    "    index = specific.where(duplicated, generic)\n",
    "    return ds.set_axis(index)\n",
    "\n",
    "def plot_static_per_carrier(ds, ax, drop_zero=True):\n",
    "    if drop_zero:\n",
    "        ds = ds[ds != 0]\n",
    "    ds = ds.dropna()\n",
    "    c = colors[ds.index.get_level_values(\"carrier\")]\n",
    "    ds = ds.pipe(rename_index)\n",
    "    label = f\"{ds.attrs['name']} [{ds.attrs['unit']}]\"\n",
    "    ds.plot.barh(color=c.values, xlabel=label, ax=ax)\n",
    "    ax.grid(axis=\"y\")\n"
   ]
  }
 ],
 "metadata": {
  "kernelspec": {
   "display_name": "pypsa-eur",
   "language": "python",
   "name": "python3"
  },
  "language_info": {
   "codemirror_mode": {
    "name": "ipython",
    "version": 3
   },
   "file_extension": ".py",
   "mimetype": "text/x-python",
   "name": "python",
   "nbconvert_exporter": "python",
   "pygments_lexer": "ipython3",
   "version": "3.12.7"
  }
 },
 "nbformat": 4,
 "nbformat_minor": 2
}
